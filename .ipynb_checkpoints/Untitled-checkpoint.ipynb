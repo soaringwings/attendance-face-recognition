{
 "cells": [
  {
   "cell_type": "code",
   "execution_count": 1,
   "id": "6b436a78-3609-4fda-a0ba-62a32d96e3f2",
   "metadata": {},
   "outputs": [],
   "source": [
    "import face_recognition\n",
    "import cv2\n",
    "import numpy as np\n",
    "import os\n",
    "from datetime import date\n",
    "\n"
   ]
  },
  {
   "cell_type": "code",
   "execution_count": 218,
   "id": "e336429f-d913-4398-b578-9f4cd1f7c6b0",
   "metadata": {},
   "outputs": [],
   "source": [
    "f = open('register.csv','r+')"
   ]
  },
  {
   "cell_type": "code",
   "execution_count": 215,
   "id": "696bf417-31e2-4eb8-aa4d-cfb76bb2ee45",
   "metadata": {},
   "outputs": [
    {
     "data": {
      "text/plain": [
       "['Name,Hour\\n',\n",
       " '\\n',\n",
       " 'me,10:54:04\\n',\n",
       " 'Unknown,09:54:12\\n',\n",
       " 'Barack Obama,10:15:21\\n',\n",
       " 'PictureA,11:26:31\\n',\n",
       " 'asdjlfasdf,lolhah\\n',\n",
       " 'asdjlfasdf,lolhah\\n',\n",
       " 'rekt,hahlol\\n',\n",
       " 'asb,lsv']"
      ]
     },
     "execution_count": 215,
     "metadata": {},
     "output_type": "execute_result"
    }
   ],
   "source": [
    "f.readlines()"
   ]
  },
  {
   "cell_type": "code",
   "execution_count": 216,
   "id": "07625562-f7ca-4511-8130-280660a149ac",
   "metadata": {},
   "outputs": [],
   "source": [
    "f.writelines(['\\nrekt,hahlol','\\nasb,lsv'])"
   ]
  },
  {
   "cell_type": "code",
   "execution_count": 220,
   "id": "c743a48a-2a8d-4df4-ba48-4dfd6faa241e",
   "metadata": {},
   "outputs": [],
   "source": [
    "register_names = []\n",
    "for line in x:\n",
    "    newcomer = line.split(',')\n",
    "    if newcomer[0] == 'Unknown' or newcomer[0] == '\\n' or newcomer[0] == 'Name':\n",
    "        pass\n",
    "    else:\n",
    "        register_names.append(newcomer[0])"
   ]
  },
  {
   "cell_type": "code",
   "execution_count": 221,
   "id": "50c2f968-b345-4162-91a6-9db0408435af",
   "metadata": {},
   "outputs": [
    {
     "data": {
      "text/plain": [
       "['me', 'Barack Obama', 'PictureA']"
      ]
     },
     "execution_count": 221,
     "metadata": {},
     "output_type": "execute_result"
    }
   ],
   "source": [
    "register_names"
   ]
  },
  {
   "cell_type": "code",
   "execution_count": 3,
   "id": "36e8193e-207a-453f-af62-d1e5bee9eb8c",
   "metadata": {},
   "outputs": [
    {
     "data": {
      "text/plain": [
       "datetime.date(2023, 1, 3)"
      ]
     },
     "execution_count": 3,
     "metadata": {},
     "output_type": "execute_result"
    }
   ],
   "source": [
    "date.today()"
   ]
  },
  {
   "cell_type": "code",
   "execution_count": 4,
   "id": "6c63e106-691c-42bf-9acf-22991675f2e2",
   "metadata": {},
   "outputs": [
    {
     "ename": "NameError",
     "evalue": "name 'datetime' is not defined",
     "output_type": "error",
     "traceback": [
      "\u001b[0;31m---------------------------------------------------------------------------\u001b[0m",
      "\u001b[0;31mNameError\u001b[0m                                 Traceback (most recent call last)",
      "Input \u001b[0;32mIn [4]\u001b[0m, in \u001b[0;36m<cell line: 1>\u001b[0;34m()\u001b[0m\n\u001b[0;32m----> 1\u001b[0m y \u001b[38;5;241m=\u001b[39m \u001b[38;5;28mstr\u001b[39m(\u001b[43mdatetime\u001b[49m\u001b[38;5;241m.\u001b[39mdate\u001b[38;5;241m.\u001b[39mtoday())\n",
      "\u001b[0;31mNameError\u001b[0m: name 'datetime' is not defined"
     ]
    }
   ],
   "source": [
    "y = str(datetime.date.today())"
   ]
  },
  {
   "cell_type": "code",
   "execution_count": null,
   "id": "8d6c6052-a363-4b5e-bb69-2390c6a13fba",
   "metadata": {},
   "outputs": [],
   "source": [
    "y"
   ]
  },
  {
   "cell_type": "code",
   "execution_count": 226,
   "id": "a3384efd-a3e6-4d38-af56-c4bf0125f4cf",
   "metadata": {},
   "outputs": [],
   "source": [
    "list = os.listdir('x')"
   ]
  },
  {
   "cell_type": "code",
   "execution_count": 227,
   "id": "b53c4c1b-864a-4c0a-a5f8-4fccef6b6296",
   "metadata": {},
   "outputs": [
    {
     "data": {
      "text/plain": [
       "['sdfxz.txt', 'asdf.txt', '.ipynb_checkpoints', 'assde4rr.txt']"
      ]
     },
     "execution_count": 227,
     "metadata": {},
     "output_type": "execute_result"
    }
   ],
   "source": [
    "list"
   ]
  },
  {
   "cell_type": "code",
   "execution_count": 228,
   "id": "2065508c-e363-49a4-abaf-61fee725b48e",
   "metadata": {},
   "outputs": [],
   "source": [
    "list.remove('.ipynb_checkpoints')"
   ]
  },
  {
   "cell_type": "code",
   "execution_count": 229,
   "id": "8d9891df-a65e-4950-9d07-15244c81040f",
   "metadata": {},
   "outputs": [
    {
     "data": {
      "text/plain": [
       "['sdfxz.txt', 'asdf.txt', 'assde4rr.txt']"
      ]
     },
     "execution_count": 229,
     "metadata": {},
     "output_type": "execute_result"
    }
   ],
   "source": [
    "list"
   ]
  },
  {
   "cell_type": "code",
   "execution_count": 230,
   "id": "fa3520fe-c6c9-4b51-aead-73149bee7807",
   "metadata": {},
   "outputs": [],
   "source": [
    "list = [sub.replace('.txt', '') for sub in list]"
   ]
  },
  {
   "cell_type": "code",
   "execution_count": 296,
   "id": "d904781d-74d5-40d2-ab74-abb3c1ab0c8a",
   "metadata": {},
   "outputs": [
    {
     "data": {
      "text/plain": [
       "['sdfxz', 'asdf', 'assde4rr']"
      ]
     },
     "execution_count": 296,
     "metadata": {},
     "output_type": "execute_result"
    }
   ],
   "source": [
    "list"
   ]
  },
  {
   "cell_type": "code",
   "execution_count": 19,
   "id": "d1443880-690f-44a4-94fd-45fb70b24a32",
   "metadata": {},
   "outputs": [],
   "source": [
    "with open(f'{y}.csv','w') as file:\n",
    "    file.writelines(['name,status,time entered','\\njoe,present,11:23:14'])"
   ]
  },
  {
   "cell_type": "code",
   "execution_count": 342,
   "id": "52953a0f-6f61-48d0-ba65-6a1b7beb401e",
   "metadata": {},
   "outputs": [],
   "source": [
    "file.writelines('laksdf')"
   ]
  },
  {
   "cell_type": "code",
   "execution_count": 339,
   "id": "731b5ce8-3c8b-4351-b91e-4223d506f52f",
   "metadata": {},
   "outputs": [],
   "source": [
    "file.writelines(['name,status,time entered\\n','yes,no,maybe'])"
   ]
  },
  {
   "cell_type": "code",
   "execution_count": 333,
   "id": "b29e75a4-1b5d-4a40-8119-997dac5d05a9",
   "metadata": {},
   "outputs": [],
   "source": [
    "file = open(f'{y}.csv','r+')"
   ]
  },
  {
   "cell_type": "code",
   "execution_count": 334,
   "id": "03b94fdc-6f48-48a5-9f49-c24c362f6858",
   "metadata": {},
   "outputs": [],
   "source": [
    "file.writelines('joe,present,11:23:14')"
   ]
  },
  {
   "cell_type": "code",
   "execution_count": 293,
   "id": "dec740b1-947b-4ef4-9a2b-c5357bdc97a9",
   "metadata": {},
   "outputs": [],
   "source": []
  },
  {
   "cell_type": "code",
   "execution_count": null,
   "id": "5cfcdefa-7b2c-470e-a716-16fc45e1a384",
   "metadata": {},
   "outputs": [],
   "source": []
  }
 ],
 "metadata": {
  "kernelspec": {
   "display_name": "Python 3 (ipykernel)",
   "language": "python",
   "name": "python3"
  },
  "language_info": {
   "codemirror_mode": {
    "name": "ipython",
    "version": 3
   },
   "file_extension": ".py",
   "mimetype": "text/x-python",
   "name": "python",
   "nbconvert_exporter": "python",
   "pygments_lexer": "ipython3",
   "version": "3.9.12"
  }
 },
 "nbformat": 4,
 "nbformat_minor": 5
}
